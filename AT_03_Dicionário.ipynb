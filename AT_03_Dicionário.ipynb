{
  "cells": [
    {
      "cell_type": "markdown",
      "metadata": {
        "id": "view-in-github",
        "colab_type": "text"
      },
      "source": [
        "<a href=\"https://colab.research.google.com/github/paty3090/AT_03_DICIONARIO/blob/main/AT_03_Dicion%C3%A1rio.ipynb\" target=\"_parent\"><img src=\"https://colab.research.google.com/assets/colab-badge.svg\" alt=\"Open In Colab\"/></a>"
      ]
    },
    {
      "cell_type": "markdown",
      "source": [
        "Você é responsável por controlar as notas dos alunos de uma turma usando um dicionário. Com base no exemplo abaixo, realize as tarefas propostas:  \n",
        "\n",
        "Dicionário com as notas de alguns alunos\n",
        "notas = {'Teo': 8.5, 'Cristiano': 8.9, 'Matson': 7.7}\n",
        "\n",
        "TAREFAS:\n",
        "1- Exiba a nota do aluno Matson.\n",
        "\n"
      ],
      "metadata": {
        "id": "J__gvIuT8-nX"
      }
    },
    {
      "cell_type": "code",
      "source": [
        "notas = {'Teo': 8.5, 'Cristiano': 8.9, 'Matson': 7.7}\n",
        "print(notas['Matson'])"
      ],
      "metadata": {
        "colab": {
          "base_uri": "https://localhost:8080/"
        },
        "id": "R0--TriK8-Pq",
        "outputId": "75afdf79-459c-4242-e17e-de3eb73e424f"
      },
      "execution_count": 1,
      "outputs": [
        {
          "output_type": "stream",
          "name": "stdout",
          "text": [
            "7.7\n"
          ]
        }
      ]
    },
    {
      "cell_type": "markdown",
      "source": [
        "2- Adicione um novo aluno chamado \"Bruna\" com a nota 8.7."
      ],
      "metadata": {
        "id": "oOUouXEJ9yfK"
      }
    },
    {
      "cell_type": "code",
      "source": [
        "notas['Bruna'] = 8.7\n",
        "print(notas)"
      ],
      "metadata": {
        "colab": {
          "base_uri": "https://localhost:8080/"
        },
        "id": "OqbCI6bk9umT",
        "outputId": "7517a41a-c3c4-42f4-89de-1b194420e774"
      },
      "execution_count": 2,
      "outputs": [
        {
          "output_type": "stream",
          "name": "stdout",
          "text": [
            "{'Teo': 8.5, 'Cristiano': 8.9, 'Matson': 7.7, 'Bruna': 8.7}\n"
          ]
        }
      ]
    },
    {
      "cell_type": "markdown",
      "source": [
        "3- Atualize a nota do aluno \"Teo\" para 9.2."
      ],
      "metadata": {
        "id": "X72LkX_8-TG_"
      }
    },
    {
      "cell_type": "code",
      "source": [
        "notas['Teo'] = 9.2\n",
        "print(notas)"
      ],
      "metadata": {
        "colab": {
          "base_uri": "https://localhost:8080/"
        },
        "id": "KvdpEaxH-aE5",
        "outputId": "f9c99702-2a59-4905-c4b9-5a3a572822c8"
      },
      "execution_count": 3,
      "outputs": [
        {
          "output_type": "stream",
          "name": "stdout",
          "text": [
            "{'Teo': 9.2, 'Cristiano': 8.9, 'Matson': 7.7, 'Bruna': 8.7}\n"
          ]
        }
      ]
    },
    {
      "cell_type": "markdown",
      "source": [
        "4- Verifique se o aluno \"Carlos\" está no dicionário."
      ],
      "metadata": {
        "id": "9Q8VcRS7-moH"
      }
    },
    {
      "cell_type": "code",
      "source": [
        "notas = {'Teo': 8.5, 'Cristiano': 8.9, 'Matson': 7.7}\n",
        "if 'Carlos' in notas:\n",
        "    print('Carlos está no dicionário')\n",
        "else:\n",
        "    print('Carlos não está no dicionário')"
      ],
      "metadata": {
        "colab": {
          "base_uri": "https://localhost:8080/"
        },
        "id": "CzTK_iWU-sD4",
        "outputId": "06ec00b9-bcf8-4d0d-d696-0488c94d397b"
      },
      "execution_count": 4,
      "outputs": [
        {
          "output_type": "stream",
          "name": "stdout",
          "text": [
            "Carlos não está no dicionário\n"
          ]
        }
      ]
    },
    {
      "cell_type": "markdown",
      "source": [
        "\n",
        "\n",
        "5- Apague o aluno \"Matson\" do dicionário.\n"
      ],
      "metadata": {
        "id": "XcP4LbvG_CTM"
      }
    },
    {
      "cell_type": "code",
      "source": [
        "bigdata = {'Teo': 8.5, 'Cristiano': 8.9, 'Matson': 7.7}\n",
        "del notas['Matson']\n",
        "print(notas)\n"
      ],
      "metadata": {
        "colab": {
          "base_uri": "https://localhost:8080/"
        },
        "id": "E_sJAJFY_C5b",
        "outputId": "00fac4d0-2ff7-4a81-982d-286d53821665"
      },
      "execution_count": 5,
      "outputs": [
        {
          "output_type": "stream",
          "name": "stdout",
          "text": [
            "{'Teo': 8.5, 'Cristiano': 8.9}\n"
          ]
        }
      ]
    },
    {
      "cell_type": "markdown",
      "source": [
        "6- Adicione dois novos alunos com notas à sua escolha."
      ],
      "metadata": {
        "id": "KIK2bV6x_loi"
      }
    },
    {
      "cell_type": "code",
      "source": [
        "bigdata = {'Teo': 8.5, 'Cristiano': 8.9, 'Matson': 7.7}\n",
        "bigdata['Patrícia'] = 8.7\n",
        "bigdata['Carlos'] = 9.2\n",
        "print(bigdata)\n"
      ],
      "metadata": {
        "colab": {
          "base_uri": "https://localhost:8080/"
        },
        "id": "ASyrXxBQ_mDM",
        "outputId": "599451e0-8d7e-4b54-841c-f48792b232b6"
      },
      "execution_count": 6,
      "outputs": [
        {
          "output_type": "stream",
          "name": "stdout",
          "text": [
            "{'Teo': 8.5, 'Cristiano': 8.9, 'Matson': 7.7, 'Patrícia': 8.7, 'Carlos': 9.2}\n"
          ]
        }
      ]
    },
    {
      "cell_type": "markdown",
      "source": [
        "7- Mostre todas as chaves (nomes dos alunos)."
      ],
      "metadata": {
        "id": "OERP-2G8ABf_"
      }
    },
    {
      "cell_type": "code",
      "source": [
        "notas = {'Teo': 8.5, 'Cristiano': 8.9, 'Matson': 7.7}\n",
        "print(notas.keys())"
      ],
      "metadata": {
        "colab": {
          "base_uri": "https://localhost:8080/"
        },
        "id": "LKrKdDtZAFyB",
        "outputId": "654a4cb3-8e81-4b9c-aecb-5507de9b9e5c"
      },
      "execution_count": 7,
      "outputs": [
        {
          "output_type": "stream",
          "name": "stdout",
          "text": [
            "dict_keys(['Teo', 'Cristiano', 'Matson'])\n"
          ]
        }
      ]
    },
    {
      "cell_type": "markdown",
      "source": [
        "8- Mostre todos os valores (notas dos alunos)."
      ],
      "metadata": {
        "id": "dJZMTPzmAGuY"
      }
    },
    {
      "cell_type": "code",
      "source": [
        "notas.values()"
      ],
      "metadata": {
        "colab": {
          "base_uri": "https://localhost:8080/"
        },
        "id": "fxWpHztoAL5N",
        "outputId": "52404aac-211c-4736-e239-71dac84a4bcb"
      },
      "execution_count": 8,
      "outputs": [
        {
          "output_type": "execute_result",
          "data": {
            "text/plain": [
              "dict_values([8.5, 8.9, 7.7])"
            ]
          },
          "metadata": {},
          "execution_count": 8
        }
      ]
    },
    {
      "cell_type": "markdown",
      "source": [
        "9- Use o método .get() para tentar buscar a nota de \"Islla\", e retorne \"Aluno não encontrado\" caso ele não exista."
      ],
      "metadata": {
        "id": "TnYQxMd_AMX6"
      }
    },
    {
      "cell_type": "code",
      "source": [
        "notas.get('Islla', 'Aluno não encontrado')"
      ],
      "metadata": {
        "colab": {
          "base_uri": "https://localhost:8080/",
          "height": 35
        },
        "id": "qspoAVotAQM2",
        "outputId": "929ebf2a-111d-43ca-ad6b-11d447805ac4"
      },
      "execution_count": 9,
      "outputs": [
        {
          "output_type": "execute_result",
          "data": {
            "text/plain": [
              "'Aluno não encontrado'"
            ],
            "application/vnd.google.colaboratory.intrinsic+json": {
              "type": "string"
            }
          },
          "metadata": {},
          "execution_count": 9
        }
      ]
    },
    {
      "cell_type": "markdown",
      "source": [
        "10- Use o método .get() para tentar buscar a nota de algum aluno, e retorne \"Aluno encontrado\"."
      ],
      "metadata": {
        "id": "-cfmv9ThAQz4"
      }
    },
    {
      "cell_type": "code",
      "source": [
        "notas.get('Teo', 'Aluno Encontrado')\n"
      ],
      "metadata": {
        "colab": {
          "base_uri": "https://localhost:8080/"
        },
        "id": "QGXLv_lrAU2m",
        "outputId": "7ee0b74f-c7aa-416b-84ee-34c18653dd0f"
      },
      "execution_count": 15,
      "outputs": [
        {
          "output_type": "execute_result",
          "data": {
            "text/plain": [
              "8.5"
            ]
          },
          "metadata": {},
          "execution_count": 15
        }
      ]
    }
  ],
  "metadata": {
    "colab": {
      "provenance": [],
      "include_colab_link": true
    },
    "kernelspec": {
      "display_name": "Python 3",
      "name": "python3"
    }
  },
  "nbformat": 4,
  "nbformat_minor": 0
}